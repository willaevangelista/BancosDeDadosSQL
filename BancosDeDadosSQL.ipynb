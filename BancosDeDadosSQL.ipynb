{
  "nbformat": 4,
  "nbformat_minor": 0,
  "metadata": {
    "colab": {
      "provenance": [],
      "authorship_tag": "ABX9TyOQCbzeu7bv+QsxuuX6K5/u"
    },
    "kernelspec": {
      "name": "python3",
      "display_name": "Python 3"
    },
    "language_info": {
      "name": "python"
    }
  },
  "cells": [
    {
      "cell_type": "markdown",
      "source": [
        "# Importações"
      ],
      "metadata": {
        "id": "PkZKsbHBynlD"
      }
    },
    {
      "cell_type": "code",
      "execution_count": null,
      "metadata": {
        "id": "WbFNbSaAydUt"
      },
      "outputs": [],
      "source": [
        "import pandas as pd\n",
        "import sqlite3"
      ]
    },
    {
      "cell_type": "markdown",
      "source": [
        "# Exercício 1"
      ],
      "metadata": {
        "id": "rEmzjTbyy81x"
      }
    },
    {
      "cell_type": "markdown",
      "source": [
        "Crie uma tabela chamada \"alunos\" com os seguintes campos: id\n",
        "(inteiro), nome (texto), idade (inteiro) e curso (texto)."
      ],
      "metadata": {
        "id": "ewseBz7_zNGY"
      }
    },
    {
      "cell_type": "code",
      "source": [
        "# criação da tabela alunos\n",
        "\n",
        "alunos = sqlite3.connect('banco_alunos.db')"
      ],
      "metadata": {
        "id": "Mun-1wRgzXqN"
      },
      "execution_count": null,
      "outputs": []
    },
    {
      "cell_type": "code",
      "source": [
        "# criação de cursor para executar os comandos SQL\n",
        "\n",
        "cursor = alunos.cursor()"
      ],
      "metadata": {
        "id": "iGtJkVD5zwf8"
      },
      "execution_count": null,
      "outputs": []
    },
    {
      "cell_type": "code",
      "source": [
        "# criação dos campos da tabela\n",
        "\n",
        "cursor.execute('CREATE TABLE alunos(Id INT, Nome VARCHAR, Idade INT, Curso VARCHAR)')"
      ],
      "metadata": {
        "id": "DkPM9fyLz__p"
      },
      "execution_count": null,
      "outputs": []
    },
    {
      "cell_type": "code",
      "source": [
        "# salvar as alterações feitas na tabela\n",
        "\n",
        "alunos.commit()"
      ],
      "metadata": {
        "id": "v9NcycZT0kHy"
      },
      "execution_count": null,
      "outputs": []
    },
    {
      "cell_type": "code",
      "source": [
        "# PRINTANDO A TABELA\n",
        "\n",
        "# consulta SQL\n",
        "query = \"SELECT * FROM alunos\"\n",
        "\n",
        "# carregar os resultados no pandas\n",
        "df = pd.read_sql_query(query, alunos)\n",
        "\n",
        "# exibir a tabela no Colab\n",
        "df\n",
        "\n",
        "# printando os resultados\n",
        "print(df)"
      ],
      "metadata": {
        "id": "6m3UtpRUoSUg"
      },
      "execution_count": null,
      "outputs": []
    },
    {
      "cell_type": "markdown",
      "source": [
        "# Exercício 2"
      ],
      "metadata": {
        "id": "6e76zp4Py9V8"
      }
    },
    {
      "cell_type": "markdown",
      "source": [
        "Insira pelo menos 5 registros de alunos na tabela que você criou no\n",
        "exercício anterior."
      ],
      "metadata": {
        "id": "vEwS0SxJzXQP"
      }
    },
    {
      "cell_type": "code",
      "source": [
        "# inclusão de 10 registros de alunas na tabela\n",
        "\n",
        "cursor.execute('INSERT INTO alunos(id, nome, idade, curso) VALUES(1, \"Bianca\", 27, \"Análise de Dados\")')\n",
        "cursor.execute('INSERT INTO alunos(id, nome, idade, curso) VALUES(2, \"Ana\", 33, \"Programação em Java\")')\n",
        "cursor.execute('INSERT INTO alunos(id, nome, idade, curso) VALUES(3, \"Esther\", 24, \"Desenvolvimento de Software\")')\n",
        "cursor.execute('INSERT INTO alunos(id, nome, idade, curso) VALUES(4, \"Larissa\", 43, \"Ciência da Computação\")')\n",
        "cursor.execute('INSERT INTO alunos(id, nome, idade, curso) VALUES(5, \"Clara\", 21, \"Desenvolvimento de Sistemas\")')\n",
        "cursor.execute('INSERT INTO alunos(id, nome, idade, curso) VALUES(6, \"Bruna\", 38, \"Engenharia da Computação\")')\n",
        "cursor.execute('INSERT INTO alunos(id, nome, idade, curso) VALUES(7, \"Luana\", 29, \"Engenharia de Programação\")')\n",
        "cursor.execute('INSERT INTO alunos(id, nome, idade, curso) VALUES(8, \"Zara\", 25, \"Engenharia de Sistemas\")')\n",
        "cursor.execute('INSERT INTO alunos(id, nome, idade, curso) VALUES(9, \"Seleste\", 18, \"Engenharia de Dados\")')\n",
        "cursor.execute('INSERT INTO alunos(id, nome, idade, curso) VALUES(10, \"Mara\", 19, \"Engenharia de Software\")')"
      ],
      "metadata": {
        "id": "TctRGkmNzW1r"
      },
      "execution_count": null,
      "outputs": []
    },
    {
      "cell_type": "code",
      "source": [
        "# salvar as alterações feitas na tabela\n",
        "\n",
        "alunos.commit()"
      ],
      "metadata": {
        "id": "UUnhEziAnGLW"
      },
      "execution_count": null,
      "outputs": []
    },
    {
      "cell_type": "code",
      "source": [
        "# PRINTANDO A TABELA\n",
        "\n",
        "# consulta SQL\n",
        "query = \"SELECT * FROM alunos\"\n",
        "\n",
        "# carregar os resultados no pandas\n",
        "df = pd.read_sql_query(query, alunos)\n",
        "\n",
        "# exibir a tabela no Colab\n",
        "df\n",
        "\n",
        "# printando os resultados\n",
        "print(df)"
      ],
      "metadata": {
        "id": "lZnoiWTum4s5"
      },
      "execution_count": null,
      "outputs": []
    },
    {
      "cell_type": "markdown",
      "source": [
        "# Exercício 3"
      ],
      "metadata": {
        "id": "wTaodcO4y9of"
      }
    },
    {
      "cell_type": "markdown",
      "source": [
        "**Consultas Básicas** <br>\n",
        "Escreva consultas SQL para realizar as seguintes tarefas:"
      ],
      "metadata": {
        "id": "ncUFKl4w1VIc"
      }
    },
    {
      "cell_type": "markdown",
      "source": [
        "a) Selecionar todos os registros da tabela \"alunos\"."
      ],
      "metadata": {
        "id": "MT-YqkgL1fSJ"
      }
    },
    {
      "cell_type": "code",
      "source": [
        "dados_total = cursor.execute('SELECT * FROM alunos')\n",
        "\n",
        "for alunos in dados_total:\n",
        "  print(alunos)"
      ],
      "metadata": {
        "id": "RJn8OdEl1hv1"
      },
      "execution_count": null,
      "outputs": []
    },
    {
      "cell_type": "markdown",
      "source": [
        "b) Selecionar o nome e a idade dos alunos com mais de 20 anos."
      ],
      "metadata": {
        "id": "D93PNEq-1iHX"
      }
    },
    {
      "cell_type": "code",
      "source": [
        "dados_idade = cursor.execute('SELECT nome, idade FROM alunos WHERE idade > 20')\n",
        "\n",
        "for alunos in dados_idade:\n",
        "  print(alunos)"
      ],
      "metadata": {
        "id": "mqTuA7Qj1kZg"
      },
      "execution_count": null,
      "outputs": []
    },
    {
      "cell_type": "markdown",
      "source": [
        "c) Selecionar os alunos do curso de \"Engenharia\" em ordem\n",
        "alfabética."
      ],
      "metadata": {
        "id": "wEyHmQTP1kxh"
      }
    },
    {
      "cell_type": "code",
      "source": [
        "engenharia_ordem = cursor.execute('SELECT * FROM alunos WHERE Curso LIKE \"Engenharia%\" ORDER BY nome')\n",
        "\n",
        "for alunos in engenharia_ordem:\n",
        "  print(alunos)"
      ],
      "metadata": {
        "id": "EzAvnLeT1nwg"
      },
      "execution_count": null,
      "outputs": []
    },
    {
      "cell_type": "markdown",
      "source": [
        "d) Contar o número total de alunos na tabela"
      ],
      "metadata": {
        "id": "SDmPvK-o1nWJ"
      }
    },
    {
      "cell_type": "code",
      "source": [
        "# contagem de quantos alunos tem na tabela - gera um código\n",
        "resultado = cursor.execute(\"SELECT COUNT(*) FROM alunos\")\n",
        "\n",
        "# \"tradução\" do código para a linguagem \"humana\"\n",
        "total_alunos = resultado.fetchone()[0]\n",
        "\n",
        "print('O total de alunos na tabela é: ' + str(total_alunos))"
      ],
      "metadata": {
        "id": "puYVcFV71rIl"
      },
      "execution_count": null,
      "outputs": []
    },
    {
      "cell_type": "markdown",
      "source": [
        "# Exercício 4"
      ],
      "metadata": {
        "id": "UmJ-aZIBy95i"
      }
    },
    {
      "cell_type": "markdown",
      "source": [
        "**Atualização e Remoção**"
      ],
      "metadata": {
        "id": "fHwENBT51s5R"
      }
    },
    {
      "cell_type": "markdown",
      "source": [
        "a) Atualize a idade de um aluno específico na tabela."
      ],
      "metadata": {
        "id": "09DMp9yo1wWm"
      }
    },
    {
      "cell_type": "code",
      "source": [
        "# fazendo update de idade de aluno específico e definindo variável para essa ação\n",
        "# isso é uma tupla, então não dá para printar direto (é necessário criar outra variável para isso), nem fazer commit\n",
        "\n",
        "update_idade = cursor.execute('UPDATE alunos SET idade = 26 WHERE nome = \"Zara\"')\n",
        "\n",
        "# atualizando tabela para viabilizar o print\n",
        "tabela_atualizada = cursor.execute(\"SELECT * FROM alunos\")\n",
        "\n",
        "# print da tabela considerando essas alterações\n",
        "for alunos in tabela_atualizada:\n",
        "  print(alunos)"
      ],
      "metadata": {
        "id": "c-yK9LAa1466"
      },
      "execution_count": null,
      "outputs": []
    },
    {
      "cell_type": "markdown",
      "source": [
        "b) Remova um aluno pelo seu ID."
      ],
      "metadata": {
        "id": "h2JwZQxb1wIZ"
      }
    },
    {
      "cell_type": "code",
      "source": [
        "# deletando aluno por seu ID e definindo variável para essa ação\n",
        "# isso é uma tupla, então não dá para printar direto (é necessário criar outra variável para isso), nem fazer commit\n",
        "delete_id = cursor.execute('DELETE FROM alunos WHERE id = 2')\n",
        "\n",
        "# atualizando tabela para viabilizar o print\n",
        "tabela_exclusao = cursor.execute(\"SELECT * FROM alunos\")\n",
        "\n",
        "# print da tabela considerando essas alterações\n",
        "for alunos in tabela_exclusao:\n",
        "  print(alunos)"
      ],
      "metadata": {
        "id": "UOyDSvin17a-"
      },
      "execution_count": null,
      "outputs": []
    },
    {
      "cell_type": "markdown",
      "source": [
        "# Exercício 5"
      ],
      "metadata": {
        "id": "f9_qhX-OzDki"
      }
    },
    {
      "cell_type": "markdown",
      "source": [
        "Criar uma Tabela e Inserir Dados"
      ],
      "metadata": {
        "id": "-TKEAkAy19I0"
      }
    },
    {
      "cell_type": "markdown",
      "source": [
        "Crie uma tabela chamada \"clientes\" com os campos: id (chave\n",
        "primária), nome (texto), idade (inteiro) e saldo (float). Insira alguns\n",
        "registros de clientes na tabela."
      ],
      "metadata": {
        "id": "IGvbvCOX2AeZ"
      }
    },
    {
      "cell_type": "code",
      "source": [
        "# criação da tabela clientes\n",
        "\n",
        "clientes = sqlite3.connect('banco_geral')"
      ],
      "metadata": {
        "id": "jzg-1-S7H2kn"
      },
      "execution_count": null,
      "outputs": []
    },
    {
      "cell_type": "code",
      "source": [
        "# criação de cursor para executar os comandos SQL\n",
        "\n",
        "cursor = clientes.cursor()"
      ],
      "metadata": {
        "id": "DUTCoswMJSuy"
      },
      "execution_count": null,
      "outputs": []
    },
    {
      "cell_type": "code",
      "source": [
        "# criação dos campos da tabela\n",
        "\n",
        "cursor.execute('CREATE TABLE clientes(id INTEGER PRIMARY KEY, Nome VARCHAR, Idade INT, Saldo FLOAT)')"
      ],
      "metadata": {
        "id": "o-OIwdJQ2C2s"
      },
      "execution_count": null,
      "outputs": []
    },
    {
      "cell_type": "code",
      "source": [
        "# inclusão de 10 registros de alunas na tabela\n",
        "\n",
        "cursor.execute('INSERT INTO clientes(id, nome, idade, saldo) VALUES(1, \"Bianca\", 27, 234)')\n",
        "cursor.execute('INSERT INTO clientes(id, nome, idade, saldo) VALUES(2, \"Ana\", 33, 4827)')\n",
        "cursor.execute('INSERT INTO clientes(id, nome, idade, saldo) VALUES(3, \"Esther\", 24, 847)')\n",
        "cursor.execute('INSERT INTO clientes(id, nome, idade, saldo) VALUES(4, \"Larissa\", 43, 98)')\n",
        "cursor.execute('INSERT INTO clientes(id, nome, idade, saldo) VALUES(5, \"Clara\", 21, 412)')\n",
        "cursor.execute('INSERT INTO clientes(id, nome, idade, saldo) VALUES(6, \"Bruna\", 38, 4128)')\n",
        "cursor.execute('INSERT INTO clientes(id, nome, idade, saldo) VALUES(7, \"Luana\", 29, 4391)')\n",
        "cursor.execute('INSERT INTO clientes(id, nome, idade, saldo) VALUES(8, \"Zara\", 25, 431)')\n",
        "cursor.execute('INSERT INTO clientes(id, nome, idade, saldo) VALUES(9, \"Seleste\", 18, 421)')\n",
        "cursor.execute('INSERT INTO clientes(id, nome, idade, saldo) VALUES(10, \"Mara\", 19, 4129836)')"
      ],
      "metadata": {
        "id": "ztLae9O0MBHV"
      },
      "execution_count": null,
      "outputs": []
    },
    {
      "cell_type": "code",
      "source": [
        "# salvar as alterações feitas na tabela\n",
        "\n",
        "clientes.commit()"
      ],
      "metadata": {
        "id": "wW8oBib5J4lV"
      },
      "execution_count": null,
      "outputs": []
    },
    {
      "cell_type": "code",
      "source": [
        "# PRINTANDO A TABELA\n",
        "\n",
        "# consulta SQL\n",
        "query = \"SELECT * FROM clientes\"\n",
        "\n",
        "# carregar os resultados no pandas\n",
        "df = pd.read_sql_query(query, clientes)\n",
        "\n",
        "# exibir a tabela no Colab\n",
        "df\n",
        "\n",
        "# printando os resultados\n",
        "print(df)"
      ],
      "metadata": {
        "id": "sCH1qDHmJ8cl"
      },
      "execution_count": null,
      "outputs": []
    },
    {
      "cell_type": "code",
      "source": [
        "conexao = sqlite3.connect('banco_geral')\n",
        "query = \"SELECT name FROM sqlite_master WHERE type='table';\"\n",
        "df = pd.read_sql_query(query, conexao)\n",
        "\n",
        "print(df)"
      ],
      "metadata": {
        "id": "0_XI09wLxpV-"
      },
      "execution_count": null,
      "outputs": []
    },
    {
      "cell_type": "markdown",
      "source": [
        "# Exercício 6"
      ],
      "metadata": {
        "id": "ahMQcfDTzD2o"
      }
    },
    {
      "cell_type": "markdown",
      "source": [
        "**Consultas e Funções Agregadas** </br>\n",
        "Escreva consultas SQL para realizar as seguintes tarefas:"
      ],
      "metadata": {
        "id": "PbDqtIIc2FOo"
      }
    },
    {
      "cell_type": "markdown",
      "source": [
        "a) Selecione o nome e a idade dos clientes com idade superior a\n",
        "30 anos."
      ],
      "metadata": {
        "id": "6bemPJdK2Lji"
      }
    },
    {
      "cell_type": "code",
      "source": [
        "# Seleção do nome e idade dos clientes com idade superior a 30 anos\n",
        "dados_nome_idade = cursor.execute('SELECT nome, idade FROM clientes WHERE idade > 30')\n",
        "\n",
        "# Print dos Resultados\n",
        "for clientes in dados_nome_idade:\n",
        "  print(clientes)"
      ],
      "metadata": {
        "id": "Oqp1KVQS2Nf_"
      },
      "execution_count": null,
      "outputs": []
    },
    {
      "cell_type": "markdown",
      "source": [
        "b) Calcule o saldo médio dos clientes."
      ],
      "metadata": {
        "id": "6hVEU2z12NvF"
      }
    },
    {
      "cell_type": "code",
      "source": [
        "# Calculo da média da coluna clientes\n",
        "saldo_medio = cursor.execute('SELECT AVG(saldo) FROM clientes')\n",
        "\n",
        "for clientes in saldo_medio:\n",
        "  print(clientes)"
      ],
      "metadata": {
        "id": "StwZfTd12P1L"
      },
      "execution_count": null,
      "outputs": []
    },
    {
      "cell_type": "markdown",
      "source": [
        "**c**) Encontre o cliente com o saldo máximo."
      ],
      "metadata": {
        "id": "522rkDpg2QKn"
      }
    },
    {
      "cell_type": "code",
      "source": [
        "saldo_medio = cursor.execute('SELECT id, nome, idade, MAX(saldo) FROM clientes')\n",
        "\n",
        "for clientes in saldo_medio:\n",
        "  print(clientes)"
      ],
      "metadata": {
        "id": "C60WRIxi2S4w"
      },
      "execution_count": null,
      "outputs": []
    },
    {
      "cell_type": "markdown",
      "source": [
        "d) Conte quantos clientes têm saldo acima de 1000."
      ],
      "metadata": {
        "id": "E1UX7PC92TUE"
      }
    },
    {
      "cell_type": "code",
      "source": [
        "# Conta de quantos clientes têm saldo acima de 100 (dado que precisa ser processado)\n",
        "\n",
        "saldo_maior = cursor.execute('SELECT COUNT(*) FROM clientes WHERE saldo > 1000')\n",
        "\n",
        "# Pega o primeiro valor retornado pela consulta (o número total de clientes)\n",
        "total_clientes = saldo_maior.fetchone()[0]\n",
        "\n",
        "# Print do resultado\n",
        "print('Clientes que têm saldo acima de 1000: ' + str(total_clientes))"
      ],
      "metadata": {
        "id": "sJ92TJ7A2XE_"
      },
      "execution_count": null,
      "outputs": []
    },
    {
      "cell_type": "markdown",
      "source": [
        "# Exercício 7"
      ],
      "metadata": {
        "id": "nIdJz1tyzHih"
      }
    },
    {
      "cell_type": "markdown",
      "source": [
        "**Atualização e Remoção com Condições**"
      ],
      "metadata": {
        "id": "VPMfZxB-2YH3"
      }
    },
    {
      "cell_type": "markdown",
      "source": [
        "a) Atualize o saldo de um cliente específico."
      ],
      "metadata": {
        "id": "Ho-qgGVT2cm2"
      }
    },
    {
      "cell_type": "code",
      "source": [
        "# Atualização do Saldo da cliente Mara / Id 10\n",
        "atualizacao = cursor.execute('UPDATE clientes SET saldo = 1673 WHERE id = 10')\n",
        "\n",
        "# Seleção da tabela inteira\n",
        "tabela_nova = cursor.execute('SELECT * FROM clientes')\n",
        "\n",
        "# Print da tabela com atualização\n",
        "for clientes in tabela_nova:\n",
        "  print(clientes)"
      ],
      "metadata": {
        "id": "Q--qfwOI2f4O"
      },
      "execution_count": null,
      "outputs": []
    },
    {
      "cell_type": "markdown",
      "source": [
        "b) Remova um cliente pelo seu ID."
      ],
      "metadata": {
        "id": "9c2TieQQ2cpf"
      }
    },
    {
      "cell_type": "code",
      "source": [
        "# Remoção da cliente Mara em função de seu ID (10)\n",
        "remocao = cursor.execute('DELETE FROM clientes WHERE Id = 10')\n",
        "\n",
        "# Seleção da Tabela Inteira\n",
        "tabela_remocao = cursor.execute('SELECT * FROM clientes')\n",
        "\n",
        "# Print da Tabela com Remoção\n",
        "for clientes in tabela_remocao:\n",
        "  print(clientes)"
      ],
      "metadata": {
        "id": "Ln7VUQuZ2gZD"
      },
      "execution_count": null,
      "outputs": []
    },
    {
      "cell_type": "code",
      "source": [
        "conexao = sqlite3.connect('banco_geral')\n",
        "\n",
        "conexao.close()"
      ],
      "metadata": {
        "id": "7mifXWGC2tWt"
      },
      "execution_count": null,
      "outputs": []
    },
    {
      "cell_type": "markdown",
      "source": [
        "# Exercício 8"
      ],
      "metadata": {
        "id": "6-MH4AFmzHyO"
      }
    },
    {
      "cell_type": "markdown",
      "source": [
        "**Junção de Tabelas**"
      ],
      "metadata": {
        "id": "NB2a6gUV2hu0"
      }
    },
    {
      "cell_type": "markdown",
      "source": [
        "Crie uma segunda tabela chamada \"compras\" com os campos: id\n",
        "(chave primária), cliente_id (chave estrangeira referenciando o id\n",
        "da tabela \"clientes\"), produto (texto) e valor (real)."
      ],
      "metadata": {
        "id": "tiCXWxgG3ASA"
      }
    },
    {
      "cell_type": "code",
      "source": [
        "# Encerrando os processos abertos da base de dados \"banco_geral\"\n",
        "\n",
        "!fuser banco_geral\n",
        "!fuser -k banco_geral\n"
      ],
      "metadata": {
        "id": "Ct6skWlS40IB"
      },
      "execution_count": null,
      "outputs": []
    },
    {
      "cell_type": "code",
      "source": [
        "import sqlite3\n",
        "import pandas as pd\n",
        "\n",
        "# Criação da tabela Compras\n",
        "\n",
        "compras = sqlite3.connect('banco_geral')\n",
        "\n",
        "cursor = compras.cursor()\n",
        "\n",
        "cursor.execute('CREATE TABLE compras (id INTEGER PRIMARY KEY, cliente_id INT, produto TEXT, valor REAL, FOREIGN KEY (cliente_id) REFERENCES reclientes(id))')\n",
        "\n",
        "# salvando alterações\n",
        "\n",
        "compras.commit()"
      ],
      "metadata": {
        "id": "klA84GSZ3JGC"
      },
      "execution_count": null,
      "outputs": []
    },
    {
      "cell_type": "markdown",
      "source": [
        "Insira algumas compras associadas a clientes existentes na tabela \"clientes\"."
      ],
      "metadata": {
        "id": "ZlkcerVr3Fmi"
      }
    },
    {
      "cell_type": "code",
      "source": [
        "# inclusão de 10 registros de compras na tabela\n",
        "\n",
        "cursor.execute('INSERT INTO compras(id, cliente_id, Produto, Valor) VALUES(1, 1, \"Cerveja\", 20.0)')\n",
        "cursor.execute('INSERT INTO compras(id, cliente_id, Produto, Valor) VALUES(2, 2, \"Pizza\", 50.0)')\n",
        "cursor.execute('INSERT INTO compras(id, cliente_id, Produto, Valor) VALUES(3, 3, \"Hamburguer\", 15.0)')\n",
        "cursor.execute('INSERT INTO compras(id, cliente_id, Produto, Valor) VALUES(4, 4, \"Sorvete\", 10.0)')\n",
        "cursor.execute('INSERT INTO compras(id, cliente_id, Produto, Valor) VALUES(5, 5, \"Biscoito\", 5.0)')\n",
        "cursor.execute('INSERT INTO compras(id, cliente_id, Produto, Valor) VALUES(6, 6, \"Macarrão\", 8.0)')\n",
        "cursor.execute('INSERT INTO compras(id, cliente_id, Produto, Valor) VALUES(7, 7, \"Chocolate\", 12.0)')\n",
        "cursor.execute('INSERT INTO compras(id, cliente_id, Produto, Valor) VALUES(8, 8, \"Suco\", 3.0)')\n",
        "cursor.execute('INSERT INTO compras(id, cliente_id, Produto, Valor) VALUES(9, 9, \"Batata\", 7.0)')\n",
        "cursor.execute('INSERT INTO compras(id, cliente_id, Produto, Valor) VALUES(10, 10, \"Salada\", 10.0)')\n",
        "\n",
        "# salvando alterações\n",
        "\n",
        "compras.commit()"
      ],
      "metadata": {
        "id": "Q9odSOZU3Jn6"
      },
      "execution_count": null,
      "outputs": []
    },
    {
      "cell_type": "code",
      "source": [
        "# PRINTANDO A TABELA\n",
        "\n",
        "# consulta SQL\n",
        "query = \"SELECT * FROM compras\"\n",
        "\n",
        "# carregar os resultados no pandas\n",
        "df = pd.read_sql_query(query, compras)\n",
        "\n",
        "# exibir a tabela no Colab\n",
        "df\n",
        "\n",
        "# printando os resultados\n",
        "print(df)"
      ],
      "metadata": {
        "id": "4EgPtDLAzHQ2"
      },
      "execution_count": null,
      "outputs": []
    },
    {
      "cell_type": "code",
      "source": [
        "conexao = sqlite3.connect('banco_geral')\n",
        "query = \"SELECT name FROM sqlite_master WHERE type='table';\"\n",
        "df = pd.read_sql_query(query, conexao)\n",
        "\n",
        "print(df)"
      ],
      "metadata": {
        "id": "QsEWqDAo3KSB"
      },
      "execution_count": null,
      "outputs": []
    },
    {
      "cell_type": "markdown",
      "source": [
        "Escreva uma consulta para exibir o nome do cliente, o produto e o\n",
        "valor de cada compra."
      ],
      "metadata": {
        "id": "KOjMHL2d3IOp"
      }
    },
    {
      "cell_type": "code",
      "source": [
        "# Conectando ao banco de dados\n",
        "conexao = sqlite3.connect('banco_geral')\n",
        "\n",
        "# Realizando o JOIN entre as tabelas 'reclientes' e 'compras'\n",
        "query = '''\n",
        "    SELECT clientes.Nome, compras.produto, compras.valor\n",
        "    FROM clientes\n",
        "    INNER JOIN compras ON clientes.id = compras.cliente_id\n",
        "'''\n",
        "\n",
        "# Carregar os resultados no pandas\n",
        "df = pd.read_sql_query(query, conexao)\n",
        "\n",
        "# Exibir os resultados\n",
        "print(df)\n",
        "\n",
        "# Fechar a conexão\n",
        "conexao.close()\n"
      ],
      "metadata": {
        "id": "MAxi3rNh5NTF"
      },
      "execution_count": null,
      "outputs": []
    }
  ]
}